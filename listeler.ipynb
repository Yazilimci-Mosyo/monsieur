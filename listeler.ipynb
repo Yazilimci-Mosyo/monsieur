{
  "nbformat": 4,
  "nbformat_minor": 0,
  "metadata": {
    "colab": {
      "name": "listeler.ipynb",
      "provenance": []
    },
    "kernelspec": {
      "name": "python3",
      "display_name": "Python 3"
    },
    "language_info": {
      "name": "python"
    }
  },
  "cells": [
    {
      "cell_type": "markdown",
      "metadata": {
        "id": "eYgdIQB7ztHz"
      },
      "source": [
        "#Listeler(lists)\n",
        "\n",
        "Liste, python'da birden fazla veriyi içinde tutabilen bir veri yapısıdır.\n",
        "Bir liste oluşturmak için 2 yol vardır:\n",
        "\n",
        "### [] (köşeli parentez içine elemanlar yazılabilir.)\n",
        "\n",
        "```\n",
        "isimler = [\"ayşe\", \"mehmet\", \"mustafa\", \"tarık\"]\n",
        "```\n",
        "\n",
        "### list ()\n",
        "\n",
        "\n",
        "```\n",
        "notlar = list([40, 90, 85, 50])\n",
        "```\n",
        "\n",
        "Birçok açıdan C ve C++ gibi dillerde bulunan array yapılarına benzemesine karşın, python listelerinin kendine has özellikleri vardır: Bir python listesi içinde,\n",
        "diğer birçok programlama dilindeki benzerlerinin aksine içinde farklı türden veriler saklanabilir.\n",
        "```\n",
        "liste = [1, 2, 3, \"Karakter\", True, 3.141596]\n",
        "```\n",
        "Yukarıdaki liste içinde tamsayı, doğru/yanlış boolean ifadesi, karakter dizisi, ondalıklı sayı karışık olarak bulunduğu halde, Python hata vermeyecektir.\n",
        "\n",
        "Listelerin bir diğer özelliği de içindeki elemanların birbiriyle aynı olabilmesidir:\n",
        "\n",
        "\n",
        "```\n",
        "liste = [1, 2, 3, 1, 2, 3, 4]\n",
        "```\n",
        "Yukarıdaki listede görüldüğü gibi liste içindeki elemanlar aynı değerde  olabilir. \n",
        "\n",
        "Bir liste içinde başka bir liste bile tanımlayabiliriz:\n",
        "\n",
        "\n",
        "```\n",
        "liste2 = [1, 2, [3, 4], 5]\n",
        "```\n",
        "\n",
        "Bir listenin eleman sayısını öğrenmek için len() fonksiyonunu kullanabiliriz.\n"
      ]
    },
    {
      "cell_type": "code",
      "metadata": {
        "colab": {
          "base_uri": "https://localhost:8080/"
        },
        "id": "vsS-lRUD4qBB",
        "outputId": "25cc6a70-b94a-4a78-d8ef-f3a39a64bf78"
      },
      "source": [
        "liste = [1, 2, 3, 4, 5, 6, 7, 8, 9] # 9 elemanlı bir liste\n",
        "print(len(liste)) # liste'nin eleman sayısını yazdır."
      ],
      "execution_count": null,
      "outputs": [
        {
          "output_type": "stream",
          "name": "stdout",
          "text": [
            "9\n"
          ]
        }
      ]
    },
    {
      "cell_type": "markdown",
      "metadata": {
        "id": "mk5FssDH5MVm"
      },
      "source": [
        "Listenin içindeki liste, tek bir eleman olarak kabul edilir:\n",
        "Örneğin:"
      ]
    },
    {
      "cell_type": "code",
      "metadata": {
        "colab": {
          "base_uri": "https://localhost:8080/"
        },
        "id": "6l2mZocn5CC-",
        "outputId": "0b13847e-6eba-4490-a877-8c7c317e0acb"
      },
      "source": [
        "liste2 = [1, 2, [3, 4]]\n",
        "# 1\n",
        "# 2\n",
        "# [3,4]\n",
        "print(len(liste2))"
      ],
      "execution_count": null,
      "outputs": [
        {
          "output_type": "stream",
          "name": "stdout",
          "text": [
            "3\n"
          ]
        }
      ]
    },
    {
      "cell_type": "markdown",
      "metadata": {
        "id": "7A1dJ4Z25hje"
      },
      "source": [
        "Görüldüğü gibi len fonksiyonu liste2 için 3 sonucunu verdi. Listenin elemanları : 1 ve 2 tamsayıları ile [3,4] listesidir."
      ]
    },
    {
      "cell_type": "markdown",
      "metadata": {
        "id": "BH53LX8T5-Yw"
      },
      "source": [
        "## Liste içi elemanlara erişim\n",
        "Liste içindeki bir elemana erişmek için önce listenin adını yazar, sonra da köşeli parantez içinde erişmek istediğimiz elemanın index numarasını yazarız.\n"
      ]
    },
    {
      "cell_type": "code",
      "metadata": {
        "colab": {
          "base_uri": "https://localhost:8080/"
        },
        "id": "hlqMYFYX6XXK",
        "outputId": "e530d723-f33d-494e-83f9-a40be7a04db1"
      },
      "source": [
        "notlar = [10, 40, 50, 65, 70]\n",
        "print(notlar[2]) # 2 nolu indexde bulunan değer"
      ],
      "execution_count": null,
      "outputs": [
        {
          "output_type": "stream",
          "name": "stdout",
          "text": [
            "50\n"
          ]
        }
      ]
    },
    {
      "cell_type": "markdown",
      "metadata": {
        "id": "CrblAyR-6q_-"
      },
      "source": [
        "Yukarıdaki kodda da gördüğümüz gibi index numarası 0'dan başlar, yani listedeki ilk elemanın indeksi 0'dır.\n",
        "\n",
        "\n",
        "\n",
        "```\n",
        "  notlar = [10 , 40, 50, 65, 70]\n",
        "indeksler:  0   1  2  3  4  \n",
        "```\n",
        "\n"
      ]
    },
    {
      "cell_type": "markdown",
      "metadata": {
        "id": "o4YjlN7Q8wL0"
      },
      "source": [
        "Son elemandan başlayarak tersten indexleme de yapılabilir. Ters indeksleme yapmak için negatif indeks numarası kullanılır. Örneğin: -1, son elemana denk gelir.\n",
        "Not: Ters indekslemede son elemanın indexi 0 değil -1 idir."
      ]
    },
    {
      "cell_type": "code",
      "metadata": {
        "colab": {
          "base_uri": "https://localhost:8080/"
        },
        "id": "t26oXIP79Bq1",
        "outputId": "88507c02-106f-4329-a138-b91a9283b184"
      },
      "source": [
        "sayilar = [5 , 41, 37, 24, 13, 22, 65, 72] # 8 elemanlı\n",
        "print(sayilar[-3]) # sondan ikinci sayı\n",
        "print(sayilar[5])"
      ],
      "execution_count": 16,
      "outputs": [
        {
          "output_type": "stream",
          "name": "stdout",
          "text": [
            "22\n",
            "22\n"
          ]
        }
      ]
    },
    {
      "cell_type": "markdown",
      "metadata": {
        "id": "3LjbWPFLSXQ2"
      },
      "source": [
        "## Listeye yeni eleman ekleme\n",
        "listeye + operatörü veya append metodu ile yeni elemanlar ekleyebiliriz."
      ]
    },
    {
      "cell_type": "code",
      "metadata": {
        "colab": {
          "base_uri": "https://localhost:8080/"
        },
        "id": "AUKr5WDsSike",
        "outputId": "a132c017-0ac6-4c29-c8fe-f00d0e345885"
      },
      "source": [
        "liste = [2,4,6,8]\n",
        "liste += [10, 12, 14]\n",
        "print(liste)"
      ],
      "execution_count": 14,
      "outputs": [
        {
          "output_type": "stream",
          "name": "stdout",
          "text": [
            "[2, 4, 6, 8, 10, 12, 14]\n"
          ]
        }
      ]
    },
    {
      "cell_type": "markdown",
      "metadata": {
        "id": "GH6atsxIS-sE"
      },
      "source": [
        "## Listedeki bir elemanı silme\n",
        "listemizde bulunan bir elemanı silmek için del komutunu kullanabiliriz."
      ]
    },
    {
      "cell_type": "code",
      "metadata": {
        "colab": {
          "base_uri": "https://localhost:8080/"
        },
        "id": "LKsTJDdXTQfS",
        "outputId": "768646c0-5d5e-4729-b068-44493985eaf9"
      },
      "source": [
        "print(\"listenin önceki hali : \", liste)\n",
        "del liste[2] # iki nolu indeksteki elemanı sil\n",
        "print(\"listenin sonraki hali :\",liste)"
      ],
      "execution_count": 15,
      "outputs": [
        {
          "output_type": "stream",
          "name": "stdout",
          "text": [
            "listenin önceki hali :  [2, 4, 6, 8, 10, 12, 14]\n",
            "listenin sonraki hali : [2, 4, 8, 10, 12, 14]\n"
          ]
        }
      ]
    },
    {
      "cell_type": "markdown",
      "metadata": {
        "id": "yemrNxRrTpXz"
      },
      "source": [
        "Görüldüğü gibi listenin ikinci elemanı olan 6 sayısı del komutu ile silindi."
      ]
    },
    {
      "cell_type": "markdown",
      "metadata": {
        "id": "qdgPhy17QLLo"
      },
      "source": [
        "## Alt liste oluşturma:\n",
        "Bir listenin içinden bir alt liste çıkarmak için köşeli parantezin içine başlangıç, bitiş değerlerini ve adım parametresini verebiliriz.\n",
        "\n",
        "\n",
        "```\n",
        "liste[başlangıç index:bitiş index:adım]\n",
        "```\n"
      ]
    },
    {
      "cell_type": "code",
      "metadata": {
        "colab": {
          "base_uri": "https://localhost:8080/"
        },
        "id": "SpmwuJSoQlt-",
        "outputId": "b0518a25-42a2-457b-e819-c72d8dd30e69"
      },
      "source": [
        "rakamlar = [0, 1, 2, 3, 4, 5, 6, 7, 8, 9]\n",
        "print(rakamlar[3:8:2]) # 3.cü indexten 8.indexe kadar 2 index arayla olan elemanlardan oluşan bir alt liste"
      ],
      "execution_count": 18,
      "outputs": [
        {
          "output_type": "stream",
          "name": "stdout",
          "text": [
            "[3, 5, 7]\n"
          ]
        }
      ]
    },
    {
      "cell_type": "markdown",
      "metadata": {
        "id": "R6rMe1fLRn_I"
      },
      "source": [
        "alt listeyi kullanarak listedeki elemanları değiştirebiliriz.\n",
        "\n"
      ]
    },
    {
      "cell_type": "code",
      "metadata": {
        "colab": {
          "base_uri": "https://localhost:8080/"
        },
        "id": "E7jkWOIQR4Qw",
        "outputId": "6d63d416-0d39-45cb-e1ce-f9ef083bb89d"
      },
      "source": [
        "rakamlar[3:8:2] = [1,2,3]\n",
        "rakamlar"
      ],
      "execution_count": 21,
      "outputs": [
        {
          "output_type": "execute_result",
          "data": {
            "text/plain": [
              "[0, 1, 2, 1, 4, 2, 6, 3, 8, 9]"
            ]
          },
          "metadata": {},
          "execution_count": 21
        }
      ]
    },
    {
      "cell_type": "markdown",
      "metadata": {
        "id": "m_b3srZySJim"
      },
      "source": [
        "Görüldüğü gibi 3, 5 ve 7'nin olması gereken yerlerde 1,2 ve 3 var"
      ]
    },
    {
      "cell_type": "markdown",
      "metadata": {
        "id": "kp9zmnHD8Lzq"
      },
      "source": [
        "**Fun Fact:**\n",
        "Aynı şekilde stringlerin içindeki karakterlere de ulaşabiliriz!"
      ]
    },
    {
      "cell_type": "code",
      "metadata": {
        "colab": {
          "base_uri": "https://localhost:8080/"
        },
        "id": "dxkBcuru8cgQ",
        "outputId": "d6326c25-9b9b-4161-d61b-531394ea1c36"
      },
      "source": [
        "isim = \"Mustafa\"\n",
        "print(isim[1]) # 1 nolu indexde bulunan harf (u harfi)"
      ],
      "execution_count": 24,
      "outputs": [
        {
          "output_type": "stream",
          "name": "stdout",
          "text": [
            "u\n"
          ]
        }
      ]
    },
    {
      "cell_type": "code",
      "metadata": {
        "colab": {
          "base_uri": "https://localhost:8080/"
        },
        "id": "hYsGxGG58rMh",
        "outputId": "926abcdd-d8f3-4388-88ee-08d206c6bd4f"
      },
      "source": [
        "print(isim[-1]) # isim değişkeninin son harfi"
      ],
      "execution_count": null,
      "outputs": [
        {
          "output_type": "stream",
          "name": "stdout",
          "text": [
            "a\n"
          ]
        }
      ]
    },
    {
      "cell_type": "code",
      "metadata": {
        "colab": {
          "base_uri": "https://localhost:8080/"
        },
        "id": "1LTPVgIBJYzn",
        "outputId": "8252b6f2-1809-46de-e83f-c9a1e1e62ea1"
      },
      "source": [
        "print(isim[::2])"
      ],
      "execution_count": 25,
      "outputs": [
        {
          "output_type": "stream",
          "name": "stdout",
          "text": [
            "Msaa\n"
          ]
        }
      ]
    },
    {
      "cell_type": "markdown",
      "metadata": {
        "id": "BMAnlHrDAsxd"
      },
      "source": [
        "## index() fonksiyonu\n",
        "\n",
        "Index fonksiyonu, bir listenin içinde elemanın indeks numarasını öğrenmeye yarar.\n",
        "Eğer eleman gerçekten listede mevcutsa, elemanın index numarasını gönderir.\n",
        "\n",
        "### Uyarı : eğer girilen değer listede mevcut değilse program hata verecektir."
      ]
    },
    {
      "cell_type": "code",
      "metadata": {
        "colab": {
          "base_uri": "https://localhost:8080/"
        },
        "id": "yCjD4HZyBMcP",
        "outputId": "6c8790f3-4755-4320-c3fb-67fc1d52af73"
      },
      "source": [
        "listem = [1, 3, 5, 4, 12, 25 ,5]\n",
        "print(\"5 sayısının indeksi :\",listem.index(5))"
      ],
      "execution_count": 32,
      "outputs": [
        {
          "output_type": "stream",
          "name": "stdout",
          "text": [
            "5 sayısının indeksi : 2\n"
          ]
        }
      ]
    },
    {
      "cell_type": "markdown",
      "metadata": {
        "id": "ZIfHzlTF-W6R"
      },
      "source": [
        "## Listedeki elemanı değiştirme\n",
        "\n",
        "Şimdi, listede var olan bir elemanı nasıl değiştirebileceğimize bakalım.\n",
        "\n",
        "Önce bir tane liste tanımlayalım:"
      ]
    },
    {
      "cell_type": "code",
      "metadata": {
        "id": "727AP3ME_Nmw"
      },
      "source": [
        "isimler = [\"ayşe\", \"mehmet\", \"mustafa\", \"tarık\"]"
      ],
      "execution_count": 29,
      "outputs": []
    },
    {
      "cell_type": "markdown",
      "metadata": {
        "id": "k7fvePVh_h_I"
      },
      "source": [
        "Diyelim ki listedeki 2 nolu indexde(3. sırada) bulunan ismi, yani mustafa'yı; \"faruk\" ile değiştirmek istiyorum."
      ]
    },
    {
      "cell_type": "code",
      "metadata": {
        "colab": {
          "base_uri": "https://localhost:8080/"
        },
        "id": "UVvErqu5_P6Z",
        "outputId": "c3a541ac-9fbc-4518-f11b-30abdcc21890"
      },
      "source": [
        "isimler[2] =\"faruk\" # 2 numaralı indexdeki ismi faruk olarak değiştir\n",
        "print(isimler)"
      ],
      "execution_count": 30,
      "outputs": [
        {
          "output_type": "stream",
          "name": "stdout",
          "text": [
            "['ayşe', 'mehmet', 'faruk', 'tarık']\n"
          ]
        }
      ]
    },
    {
      "cell_type": "markdown",
      "metadata": {
        "id": "HmYadCKFASxI"
      },
      "source": [
        "Kısaca yaptığım şey, listenin ismini yazmak, indeks numarasını belirtmek ve belirtilen indekse yeni bir değer atamak.\n",
        "Eğer indeks numarasını bilmediğimiz bir elemanı değiştirmek için index fonksiyonunundan faydalanabiliriz."
      ]
    },
    {
      "cell_type": "code",
      "metadata": {
        "colab": {
          "base_uri": "https://localhost:8080/"
        },
        "id": "F-X8Za4XCVk9",
        "outputId": "9011197b-bcea-4a89-fc24-5f46fd0488a3"
      },
      "source": [
        "isimler[1] = \"Kadir\"\n",
        "print(isimler)"
      ],
      "execution_count": 31,
      "outputs": [
        {
          "output_type": "stream",
          "name": "stdout",
          "text": [
            "['ayşe', 'Kadir', 'faruk', 'tarık']\n"
          ]
        }
      ]
    },
    {
      "cell_type": "code",
      "metadata": {
        "id": "okUxJ71RCdPy"
      },
      "source": [
        ""
      ],
      "execution_count": null,
      "outputs": []
    }
  ]
}