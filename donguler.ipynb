{
  "nbformat": 4,
  "nbformat_minor": 0,
  "metadata": {
    "colab": {
      "name": "donguler.ipynb",
      "provenance": [],
      "collapsed_sections": []
    },
    "kernelspec": {
      "name": "python3",
      "display_name": "Python 3"
    },
    "language_info": {
      "name": "python"
    }
  },
  "cells": [
    {
      "cell_type": "markdown",
      "metadata": {
        "id": "gAnT6ht_8mdl"
      },
      "source": [
        "#Döngüler\n",
        "Döngüler bilgisayar programcılığında sıklıkla kullanılan konseptlerden biridir. Döngüler, bir veya birden fazla işlem satırının belirli bir koşul sağlanana kadar tekrar ve tekrar çalışmasını sağlar.\n",
        "Programlamada sık kullanılan 2 adet döngü bulunmaktadır:\n",
        "\n",
        "\n",
        "1.   For döngüsü\n",
        "2.   while döngüsü\n",
        "\n",
        "Bu videda for döngüsünü anlatacağım.\n",
        "### 1 - For döngüsü\n",
        "For döngüsü, genelde range fonksiyonuyla birlikte kullanılmakta olup bir kod parçasının arka arkaya önceden belirlenmiş bir miktarda tekrar etmesini sağlar.\n",
        " \n",
        " Örnek vermek gerekirse aşağıdaki kod, 1'den 10'a kadar tüm sayıları alt alta yazdıracaktır.\n",
        "```\n",
        "for x in range(10):\n",
        "    print(x)\n",
        "```\n",
        "Yukarıdaki kodu kelime kelime inceleyelim.\n",
        "Kodun başında **for** yazması, bir for döngüsünün başlangıcı olduğunu belirtir.\n",
        "x, önemsiz bir değişkendir; adının x olmasının bir önemi yoktur.\n",
        "**range(10)** kısmı bize 0'dan 10'a kadar(0 dahil, 10 dahil değil) sayıların bir listesini verecektir:\n"
      ]
    },
    {
      "cell_type": "code",
      "metadata": {
        "colab": {
          "base_uri": "https://localhost:8080/"
        },
        "id": "F65RWn0pCQtE",
        "outputId": "20a0d1d8-0f5d-4478-fb7b-11112bdfe79d"
      },
      "source": [
        "for x in range(10):\n",
        "  print(x)\n",
        "  print(\"----------\")\n",
        "print(\"*********\")"
      ],
      "execution_count": null,
      "outputs": [
        {
          "output_type": "stream",
          "text": [
            "0\n",
            "----------\n",
            "1\n",
            "----------\n",
            "2\n",
            "----------\n",
            "3\n",
            "----------\n",
            "4\n",
            "----------\n",
            "5\n",
            "----------\n",
            "6\n",
            "----------\n",
            "7\n",
            "----------\n",
            "8\n",
            "----------\n",
            "9\n",
            "----------\n",
            "*********\n"
          ],
          "name": "stdout"
        }
      ]
    },
    {
      "cell_type": "markdown",
      "metadata": {
        "id": "5nnjPcLACuq4"
      },
      "source": [
        "**Range** iki sayı arasında, arasında belirli bir miktar fark olan sayıların listesini gönderen bir fonksiyondur."
      ]
    },
    {
      "cell_type": "markdown",
      "metadata": {
        "id": "yXdV1JWFDwp0"
      },
      "source": [
        "`range(başlangıç değeri, bitiş değeri, adım)`"
      ]
    },
    {
      "cell_type": "markdown",
      "metadata": {
        "id": "_J-hvFnzEi_M"
      },
      "source": [
        "not: varsayılan olarak başlangıç değeri, 0; adım ise 1'dir."
      ]
    },
    {
      "cell_type": "markdown",
      "metadata": {
        "id": "W4TWKb5fCk7V"
      },
      "source": [
        "in kelimesi ingilizcede \"içinde\" anlamına gelmektedir. Yukarıdaki gibi for döngüsünün içinde kullanıldığında da kendinden sonra gelen listedeki tüm değerleri tek tek x'e atayacaktır.\n",
        "Bu durumda x, 0'dan 9'a kadar tüm tamsayıları almış olacaktır.\n",
        "Alttaki print(x) ifadesi ise x her yeni bir sayı aldığında çalışacak kodu içermektedir. Gördüğünüz gibi If koşullu ifadelerinde de olduğu gibi döngülerde de çalıştırılacak kod, satırın 2 ya da 4 boşluk kadar içine yazılır.\n",
        "\n",
        "## Örnekler"
      ]
    },
    {
      "cell_type": "code",
      "metadata": {
        "colab": {
          "base_uri": "https://localhost:8080/"
        },
        "id": "VO88AGw9DEv8",
        "outputId": "30bc6c16-61cb-440e-d46f-be0091aab54e"
      },
      "source": [
        "for x in range(1, 10 , 2):\n",
        "    print(x) # 1'den 10'a kadar arasında 2 fark olan sayılar\n",
        "print(\"döngü bitti\")"
      ],
      "execution_count": null,
      "outputs": [
        {
          "output_type": "stream",
          "text": [
            "1\n",
            "3\n",
            "5\n",
            "7\n",
            "9\n",
            "döngü bitti\n"
          ],
          "name": "stdout"
        }
      ]
    },
    {
      "cell_type": "code",
      "metadata": {
        "colab": {
          "base_uri": "https://localhost:8080/"
        },
        "id": "d6lFZfKODaLd",
        "outputId": "d5c07bd8-c7a5-43d1-e85b-fed0952836f9"
      },
      "source": [
        "for sayı in range(3, 12, 4):\n",
        "    print(sayı) # 3'den 11'ye kadar aralarında 4 fark bulunan tamsayılar"
      ],
      "execution_count": null,
      "outputs": [
        {
          "output_type": "stream",
          "text": [
            "3\n",
            "7\n",
            "11\n"
          ],
          "name": "stdout"
        }
      ]
    },
    {
      "cell_type": "code",
      "metadata": {
        "colab": {
          "base_uri": "https://localhost:8080/"
        },
        "id": "KcxGopyqE2g8",
        "outputId": "410b9190-a0a4-4339-b222-7035a8a10e59"
      },
      "source": [
        "liste = [\"mahmut\", \"michael\", \"seda\", \"John\"]\n",
        "for x in liste:\n",
        "    print(x)"
      ],
      "execution_count": null,
      "outputs": [
        {
          "output_type": "stream",
          "text": [
            "mahmut\n",
            "michael\n",
            "seda\n",
            "John\n"
          ],
          "name": "stdout"
        }
      ]
    }
  ]
}